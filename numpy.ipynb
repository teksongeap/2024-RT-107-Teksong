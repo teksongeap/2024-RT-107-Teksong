{
 "cells": [
  {
   "cell_type": "code",
   "execution_count": 1,
   "metadata": {},
   "outputs": [
    {
     "name": "stdout",
     "output_type": "stream",
     "text": [
      "2\n"
     ]
    },
    {
     "data": {
      "text/plain": [
       "array([False,  True,  True,  True,  True,  True,  True,  True,  True,\n",
       "        True,  True,  True,  True])"
      ]
     },
     "execution_count": 1,
     "metadata": {},
     "output_type": "execute_result"
    }
   ],
   "source": [
    "import numpy as np\n",
    "z = np.linspace(1,33,13)\n",
    "bv = [2,4,6,8]\n",
    "print(np.array(bv)[0])\n",
    "z > 3"
   ]
  },
  {
   "cell_type": "code",
   "execution_count": 12,
   "metadata": {},
   "outputs": [
    {
     "name": "stdout",
     "output_type": "stream",
     "text": [
      "========================.|.\n",
      "==================.|..|..|.\n",
      "============.|..|..|..|..|.\n",
      "======.|..|..|..|..|..|..|.\n",
      "=.|..|..|.WELCOME.|..|..|.=\n",
      ".|..|..|..|..|..|..|.======\n",
      ".|..|..|..|..|.============\n",
      ".|..|..|.==================\n",
      ".|.========================\n"
     ]
    }
   ],
   "source": [
    "import time\n",
    "\n",
    "def mat_design(height: int, length: int) -> None:\n",
    "    pattern = '.|.'\n",
    "    message = 'WELCOME'\n",
    "    \n",
    "    if height % 2 == 0 or length != 3 * height:\n",
    "        return\n",
    "\n",
    "    # PATTERN PRINTING (Top Half)\n",
    "    for i in range(height // 2):\n",
    "        print(f'{(1 + (i * 2)) * pattern:=>{length}}')\n",
    "        time.sleep(1)  # Pause for 1 second\n",
    "\n",
    "    # Printing the central message\n",
    "    print(f'{(length//8) * pattern + message + pattern * (length//8):=^{length}}')\n",
    "    time.sleep(1)  # Pause for 1 second\n",
    "\n",
    "    # PATTERN PRINTING (Bottom Half)\n",
    "    for i in range(height // 2, 0, -1):\n",
    "        print(f'{((i * 2) - 1) * pattern:=<{length}}')\n",
    "        time.sleep(1)  # Pause for 1 second\n",
    "        \n",
    "mat_design(9, 27)"
   ]
  }
 ],
 "metadata": {
  "kernelspec": {
   "display_name": "Python 3",
   "language": "python",
   "name": "python3"
  },
  "language_info": {
   "codemirror_mode": {
    "name": "ipython",
    "version": 3
   },
   "file_extension": ".py",
   "mimetype": "text/x-python",
   "name": "python",
   "nbconvert_exporter": "python",
   "pygments_lexer": "ipython3",
   "version": "3.12.3"
  }
 },
 "nbformat": 4,
 "nbformat_minor": 2
}
