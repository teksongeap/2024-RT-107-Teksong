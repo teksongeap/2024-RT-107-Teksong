{
 "cells": [
  {
   "cell_type": "code",
   "execution_count": 8,
   "metadata": {},
   "outputs": [
    {
     "name": "stdout",
     "output_type": "stream",
     "text": [
      " ------data frame before slicing-----\n",
      "       Name  Age  Weight   Salary\n",
      "0     James   36      75  5428000\n",
      "1   Villers   38      74  3428000\n",
      "2     VKole   31      70  8428000\n",
      "3     Smith   34      80  4428000\n",
      "4     Gayle   40     100  4528000\n",
      "5    Rooter   33      72  7028000\n",
      "6  Peterson   42      85  2528000\n",
      "7      John   41      85  1528000\n",
      " ------ Select First Row by Index-----\n",
      "      Name  Age  Weight   Salary\n",
      "0    James   36      75  5428000\n",
      "1  Villers   38      74  3428000\n",
      " ------ Select First 4 Row by Index-----\n",
      " ------data frame after slicing----\n",
      "      Name  Age  Weight   Salary\n",
      "0    James   36      75  5428000\n",
      "1  Villers   38      74  3428000\n",
      "2    VKole   31      70  8428000\n",
      "3    Smith   34      80  4428000\n"
     ]
    }
   ],
   "source": [
    "# importing pandas library\n",
    "import pandas as pd\n",
    " \n",
    "# Initializing the nested list with Data set\n",
    "employee_list = [['James', 36, 75, 5428000],\n",
    "               ['Villers', 38, 74, 3428000],\n",
    "               ['VKole', 31, 70, 8428000],\n",
    "               ['Smith', 34, 80, 4428000],\n",
    "               ['Gayle', 40, 100, 4528000],\n",
    "               ['Rooter', 33, 72, 7028000],\n",
    "               ['Peterson', 42, 85, 2528000],\n",
    "               ['John', 41, 85, 1528000],\n",
    "]\n",
    "# creating a pandas dataframe\n",
    "df = pd.DataFrame(employee_list, columns=['Name', 'Age', 'Weight', 'Salary'])\n",
    " \n",
    "print(' ------data frame before slicing-----')\n",
    "print(df)\n",
    "\n",
    "print(' ------ Select First Row by Index-----')\n",
    "# Select First Row by Index\n",
    "print(df.iloc[:2])\n",
    "\n",
    "print(' ------ Select First 4 Row by Index-----')\n",
    "# Slicing first 4 rows from dataframe\n",
    "df1 = df.iloc[0:4]\n",
    "# This above line used the iloc indexer to slice (select) the first 4 rows of the #original DataFrame (df) and assigns the result to a new DataFrame named df1.\n",
    "\n",
    "print(' ------data frame after slicing----')\n",
    "print(df1)\n",
    "\n"
   ]
  },
  {
   "cell_type": "code",
   "execution_count": 9,
   "metadata": {},
   "outputs": [
    {
     "name": "stdout",
     "output_type": "stream",
     "text": [
      "       Name  Age  Weight   Salary\n",
      "0     James   36      75  5428000\n",
      "1   Villers   38      74  3428000\n",
      "2     VKole   31      70  8428000\n",
      "3     Smith   34      80  4428000\n",
      "4     Gayle   40     100  4528000\n",
      "5    Rooter   33      72  7028000\n",
      "6  Peterson   42      85  2528000\n",
      "7      John   41      85  1528000\n",
      "====Slicing columns in dataframe======\n",
      "       Name  Age\n",
      "0     James   36\n",
      "1   Villers   38\n",
      "2     VKole   31\n",
      "3     Smith   34\n",
      "4     Gayle   40\n",
      "5    Rooter   33\n",
      "6  Peterson   42\n",
      "7      John   41\n"
     ]
    }
   ],
   "source": [
    "# Initializing the nested list with Data set\n",
    "employee_list = [['James', 36, 75, 5428000],\n",
    "               ['Villers', 38, 74, 3428000],\n",
    "               ['VKole', 31, 70, 8428000],\n",
    "               ['Smith', 34, 80, 4428000],\n",
    "               ['Gayle', 40, 100, 4528000],\n",
    "               ['Rooter', 33, 72, 7028000],\n",
    "               ['Peterson', 42, 85, 2528000],\n",
    "               ['John', 41, 85, 1528000]]\n",
    " \n",
    "# creating a pandas dataframe\n",
    "df = pd.DataFrame(employee_list, columns=['Name', 'Age', 'Weight', 'Salary'])\n",
    " \n",
    "# data frame before slicing\n",
    "print(df)\n",
    "print( '====Slicing columns in dataframe======')\n",
    "\n",
    "emp_df =df.iloc[:, 0:2]\n",
    "print(emp_df)\n",
    "\n"
   ]
  },
  {
   "cell_type": "code",
   "execution_count": 10,
   "metadata": {},
   "outputs": [
    {
     "name": "stdout",
     "output_type": "stream",
     "text": [
      "      Name  Age\n",
      "0    James   36\n",
      "1  Villers   38\n"
     ]
    }
   ],
   "source": [
    "print(df1.iloc[0:2, 0:2])"
   ]
  },
  {
   "cell_type": "code",
   "execution_count": 11,
   "metadata": {},
   "outputs": [
    {
     "name": "stdout",
     "output_type": "stream",
     "text": [
      "  team  points  assists  rebounds  steals  blocks\n",
      "0    A      18        5        11       4       1\n",
      "1    B      22        7         8       3       0\n",
      "2    C      19        7        10       3       0\n",
      "3    D      14        9         6       2       3\n",
      "4    E      14       12         6       5       2\n",
      "5    F      11        9         5       4       2\n",
      "6    G      20        9         9       3       1\n",
      "7    H      28        4        12       8       5\n"
     ]
    }
   ],
   "source": [
    "import pandas as pd\n",
    "\n",
    "#create DataFrame with six columns\n",
    "df = pd.DataFrame({'team': ['A', 'B', 'C', 'D', 'E', 'F', 'G', 'H'],\n",
    "                   'points': [18, 22, 19, 14, 14, 11, 20, 28],\n",
    "                   'assists': [5, 7, 7, 9, 12, 9, 9, 4],\n",
    "                   'rebounds': [11, 8, 10, 6, 6, 5, 9, 12],\n",
    "                   'steals': [4, 3, 3, 2, 5, 4, 3, 8],\n",
    "                   'blocks': [1, 0, 0, 3, 2, 2, 1, 5]})\n",
    "\n",
    "#view DataFrame\n",
    "print(df)\n"
   ]
  },
  {
   "cell_type": "code",
   "execution_count": 12,
   "metadata": {},
   "outputs": [
    {
     "name": "stdout",
     "output_type": "stream",
     "text": [
      "  team  rebounds\n",
      "0    A        11\n",
      "1    B         8\n",
      "2    C        10\n",
      "3    D         6\n",
      "4    E         6\n",
      "5    F         5\n",
      "6    G         9\n",
      "7    H        12\n"
     ]
    }
   ],
   "source": [
    "#slice columns team and rebounds\n",
    "df_new = df.loc[:, ['team', 'rebounds']]\n",
    "\n",
    "#view new DataFrame\n",
    "print(df_new)\n"
   ]
  },
  {
   "cell_type": "code",
   "execution_count": 13,
   "metadata": {},
   "outputs": [
    {
     "name": "stdout",
     "output_type": "stream",
     "text": [
      "  team  points  assists  rebounds\n",
      "0    A      18        5        11\n",
      "1    B      22        7         8\n",
      "2    C      19        7        10\n",
      "3    D      14        9         6\n",
      "4    E      14       12         6\n",
      "5    F      11        9         5\n",
      "6    G      20        9         9\n",
      "7    H      28        4        12\n"
     ]
    }
   ],
   "source": [
    "#slice columns between team and rebounds\n",
    "df_new = df.loc[:, 'team':'rebounds']\n",
    "\n",
    "#view new DataFrame\n",
    "print(df_new)\n"
   ]
  },
  {
   "cell_type": "code",
   "execution_count": 14,
   "metadata": {},
   "outputs": [
    {
     "name": "stdout",
     "output_type": "stream",
     "text": [
      "  team\n",
      "3    D\n",
      "4    E\n",
      "5    F\n",
      "6    G\n"
     ]
    }
   ],
   "source": [
    "print(df.loc[3:6, ['team']])"
   ]
  }
 ],
 "metadata": {
  "kernelspec": {
   "display_name": "Python 3",
   "language": "python",
   "name": "python3"
  },
  "language_info": {
   "codemirror_mode": {
    "name": "ipython",
    "version": 3
   },
   "file_extension": ".py",
   "mimetype": "text/x-python",
   "name": "python",
   "nbconvert_exporter": "python",
   "pygments_lexer": "ipython3",
   "version": "3.12.3"
  }
 },
 "nbformat": 4,
 "nbformat_minor": 2
}
