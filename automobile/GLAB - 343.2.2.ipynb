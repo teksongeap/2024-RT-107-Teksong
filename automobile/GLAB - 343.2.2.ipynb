{
 "cells": [
  {
   "cell_type": "code",
   "execution_count": 8,
   "metadata": {},
   "outputs": [
    {
     "name": "stdout",
     "output_type": "stream",
     "text": [
      "------before -------\n",
      "     Name  Height Qualification  Score 1  Score 2\n",
      "0    Jane     5.1           Msc       56       50\n",
      "1  Princi     6.2            MA       86       96\n",
      "2   James     5.1           Msc       77       60\n",
      "3    Fadi     5.2           Msc       45       30\n",
      "------after adding column -------\n",
      "     Name  Height Qualification  Score 1  Score 2 Address\n",
      "0    Jane     5.1           Msc       56       50     NYC\n",
      "1  Princi     6.2            MA       86       96      NJ\n",
      "2   James     5.1           Msc       77       60      CA\n",
      "3    Fadi     5.2           Msc       45       30      PA\n"
     ]
    }
   ],
   "source": [
    "import pandas as pd\n",
    "  \n",
    "# Define a dictionary containing Students data\n",
    "data = {'Name': ['Jane', 'Princi', 'James', 'Fadi'],\n",
    "        'Height': [5.1, 6.2, 5.1, 5.2],\n",
    "        'Qualification': ['Msc', 'MA', 'Msc', 'Msc'],\n",
    "        'Score 1' : [56,86,77,45],\n",
    "        'Score 2' : [50,96,60,30]}\n",
    "  \n",
    "# Convert the dictionary into DataFrame\n",
    "df = pd.DataFrame(data)\n",
    "print(\"------before -------\")\n",
    "print(df)\n",
    "\n",
    "\n",
    "# Declare a list that is to be converted into a column\n",
    "address = ['NYC', 'NJ', 'CA', 'PA']\n",
    "  \n",
    "# Using 'Address' as the column name\n",
    "# and equating it to the list\n",
    "df['Address'] = address\n",
    "print(\"------after adding column -------\")\n",
    "# Observe the result\n",
    "print(df)\n"
   ]
  },
  {
   "cell_type": "code",
   "execution_count": 9,
   "metadata": {},
   "outputs": [
    {
     "name": "stdout",
     "output_type": "stream",
     "text": [
      "------before -------\n",
      "     Name  Height Qualification  Score 1  Score 2\n",
      "0    Jane     5.1           Msc       56       50\n",
      "1  Princi     6.2            MA       86       96\n",
      "2   James     5.1           Msc       77       60\n",
      "3    Fadi     5.2           Msc       45       30\n",
      "------after adding column -------\n",
      "     Name  Height Qualification  Score 1  Score 2  Total_Score\n",
      "0    Jane     5.1           Msc       56       50          106\n",
      "1  Princi     6.2            MA       86       96          182\n",
      "2   James     5.1           Msc       77       60          137\n",
      "3    Fadi     5.2           Msc       45       30           75\n"
     ]
    }
   ],
   "source": [
    "data = {'Name': ['Jane', 'Princi', 'James', 'Fadi'],\n",
    "        'Height': [5.1, 6.2, 5.1, 5.2],\n",
    "        'Qualification': ['Msc', 'MA', 'Msc', 'Msc'],\n",
    "       'Score 1' : [56,86,77,45],\n",
    "           'Score 2' : [50,96,60,30]}\n",
    "\n",
    "# Convert the dictionary into DataFrame\n",
    "df = pd.DataFrame(data)\n",
    "print(\"------before -------\")\n",
    "print(df)\n",
    "print(\"------after adding column -------\")\n",
    "\n",
    "df['Total_Score'] = df['Score 1'] +  df['Score 2']\n",
    "\n",
    "print(df)\n"
   ]
  },
  {
   "cell_type": "code",
   "execution_count": 10,
   "metadata": {},
   "outputs": [
    {
     "name": "stdout",
     "output_type": "stream",
     "text": [
      "------before -------\n",
      "     Name  Height Qualification  Score 1  Score 2\n",
      "0    Jane     5.1           Msc       56       50\n",
      "1  Princi     6.2            MA       86       96\n",
      "2   James     5.1           Msc       77       60\n",
      "3    Fadi     5.2           Msc       45       30\n",
      "------after adding column -------\n",
      "     Name  Height Qualification  Score 1  Score 2  Total_Score  \\\n",
      "0    Jane     5.1           Msc       56       50          106   \n",
      "1  Princi     6.2            MA       86       96          182   \n",
      "2   James     5.1           Msc       77       60          137   \n",
      "3    Fadi     5.2           Msc       45       30           75   \n",
      "\n",
      "   Total_Score_average  \n",
      "0                 53.0  \n",
      "1                 91.0  \n",
      "2                 68.5  \n",
      "3                 37.5  \n"
     ]
    },
    {
     "data": {
      "text/html": [
       "<div>\n",
       "<style scoped>\n",
       "    .dataframe tbody tr th:only-of-type {\n",
       "        vertical-align: middle;\n",
       "    }\n",
       "\n",
       "    .dataframe tbody tr th {\n",
       "        vertical-align: top;\n",
       "    }\n",
       "\n",
       "    .dataframe thead th {\n",
       "        text-align: right;\n",
       "    }\n",
       "</style>\n",
       "<table border=\"1\" class=\"dataframe\">\n",
       "  <thead>\n",
       "    <tr style=\"text-align: right;\">\n",
       "      <th></th>\n",
       "      <th>Name</th>\n",
       "      <th>Height</th>\n",
       "      <th>Qualification</th>\n",
       "      <th>Score 1</th>\n",
       "      <th>Score 2</th>\n",
       "      <th>Total_Score</th>\n",
       "      <th>Total_Score_average</th>\n",
       "    </tr>\n",
       "  </thead>\n",
       "  <tbody>\n",
       "    <tr>\n",
       "      <th>0</th>\n",
       "      <td>Jane</td>\n",
       "      <td>5.1</td>\n",
       "      <td>Msc</td>\n",
       "      <td>56</td>\n",
       "      <td>50</td>\n",
       "      <td>106</td>\n",
       "      <td>53.0</td>\n",
       "    </tr>\n",
       "    <tr>\n",
       "      <th>1</th>\n",
       "      <td>Princi</td>\n",
       "      <td>6.2</td>\n",
       "      <td>MA</td>\n",
       "      <td>86</td>\n",
       "      <td>96</td>\n",
       "      <td>182</td>\n",
       "      <td>91.0</td>\n",
       "    </tr>\n",
       "    <tr>\n",
       "      <th>2</th>\n",
       "      <td>James</td>\n",
       "      <td>5.1</td>\n",
       "      <td>Msc</td>\n",
       "      <td>77</td>\n",
       "      <td>60</td>\n",
       "      <td>137</td>\n",
       "      <td>68.5</td>\n",
       "    </tr>\n",
       "    <tr>\n",
       "      <th>3</th>\n",
       "      <td>Fadi</td>\n",
       "      <td>5.2</td>\n",
       "      <td>Msc</td>\n",
       "      <td>45</td>\n",
       "      <td>30</td>\n",
       "      <td>75</td>\n",
       "      <td>37.5</td>\n",
       "    </tr>\n",
       "  </tbody>\n",
       "</table>\n",
       "</div>"
      ],
      "text/plain": [
       "     Name  Height Qualification  Score 1  Score 2  Total_Score  \\\n",
       "0    Jane     5.1           Msc       56       50          106   \n",
       "1  Princi     6.2            MA       86       96          182   \n",
       "2   James     5.1           Msc       77       60          137   \n",
       "3    Fadi     5.2           Msc       45       30           75   \n",
       "\n",
       "   Total_Score_average  \n",
       "0                 53.0  \n",
       "1                 91.0  \n",
       "2                 68.5  \n",
       "3                 37.5  "
      ]
     },
     "execution_count": 10,
     "metadata": {},
     "output_type": "execute_result"
    }
   ],
   "source": [
    "data = {'Name': ['Jane', 'Princi', 'James', 'Fadi'],\n",
    "        'Height': [5.1, 6.2, 5.1, 5.2],\n",
    "        'Qualification': ['Msc', 'MA', 'Msc', 'Msc'],\n",
    "       'Score 1' : [56,86,77,45],\n",
    "           'Score 2' : [50,96,60,30]}\n",
    "\n",
    "# Convert the dictionary into DataFrame\n",
    "df = pd.DataFrame(data)\n",
    "print(\"------before -------\")\n",
    "print(df)\n",
    "print(\"------after adding column -------\")\n",
    "\n",
    "df['Total_Score'] = df['Score 1'] +  df['Score 2']\n",
    "df['Total_Score_average'] = df['Total_Score']/ 2\n",
    "print(df)\n",
    "df\n"
   ]
  },
  {
   "cell_type": "code",
   "execution_count": 11,
   "metadata": {},
   "outputs": [
    {
     "name": "stdout",
     "output_type": "stream",
     "text": [
      "------before -------\n",
      "   Score 1  Score 2    Name Qualification\n",
      "0       56       50    Jane           Msc\n",
      "1       86       96  Princi            MA\n",
      "2       77       60   James           Msc\n",
      "3       45       30    Fadi           Msc\n",
      "------after adding column -------\n",
      "   Score 1  Score 2    Name Qualification  Total_Score\n",
      "0       56       50    Jane           Msc          106\n",
      "1       86       96  Princi            MA          182\n",
      "2       77       60   James           Msc          137\n",
      "3       45       30    Fadi           Msc           75\n"
     ]
    }
   ],
   "source": [
    "data = {'Name': ['Jane', 'Princi', 'James', 'Fadi'],\n",
    "        'Height': [5.1, 6.2, 5.1, 5.2],\n",
    "        'Qualification': ['Msc', 'MA', 'Msc', 'Msc'],\n",
    "       'Score 1' : [56,86,77,45],\n",
    "       'Score 2' : [50,96,60,30]\n",
    "       }\n",
    "\n",
    "# Convert the dictionary into DataFrame\n",
    "df = pd.DataFrame(data,columns = ['Score 1','Score 2','Name', 'Qualification'  ])\n",
    "print(\"------before -------\")\n",
    "print(df)\n",
    "print(\"------after adding column -------\")\n",
    "\n",
    "df['Total_Score'] = df['Score 1'] +  df['Score 2']\n",
    "print(df)\n",
    "\n"
   ]
  },
  {
   "cell_type": "code",
   "execution_count": 12,
   "metadata": {},
   "outputs": [
    {
     "name": "stdout",
     "output_type": "stream",
     "text": [
      "Data frame before calculating percentage\n",
      "\n",
      "     Name  Univ_Marks\n",
      "0   Rohan         455\n",
      "1  Elvish         250\n",
      "2    John         495\n",
      "3     Sai         400\n",
      "4    Eric         350\n",
      "5    Adam         450\n",
      "\n",
      "Data frame with Percentage Column\n",
      "\n",
      "     Name  Univ_Marks  Percentage\n",
      "0   Rohan         455        91.0\n",
      "1  Elvish         250        50.0\n",
      "2    John         495        99.0\n",
      "3     Sai         400        80.0\n",
      "4    Eric         350        70.0\n",
      "5    Adam         450        90.0\n"
     ]
    }
   ],
   "source": [
    "# importing pandas library\n",
    "import pandas as pd\n",
    " \n",
    "# creating and initializing a list\n",
    "values = [['Rohan', 455], ['Elvish', 250], ['John', 495],\n",
    "          ['Sai', 400], ['Eric', 350], ['Adam', 450]]\n",
    " \n",
    "# creating a pandas dataframe\n",
    "df = pd.DataFrame(values, columns=['Name', 'Univ_Marks'])\n",
    " \n",
    "# displaying the data frame\n",
    " \n",
    "print('Data frame before calculating percentage\\n')\n",
    "print(df)\n",
    "print('\\nData frame with Percentage Column\\n')\n",
    " \n",
    "# Creating new column Percentage derived from Univ_Marks\n",
    "df[\"Percentage\"] = df[\"Univ_Marks\"]/500*100\n",
    " \n",
    "# displaying the data frame\n",
    "print(df)\n"
   ]
  },
  {
   "cell_type": "code",
   "execution_count": 13,
   "metadata": {},
   "outputs": [
    {
     "name": "stdout",
     "output_type": "stream",
     "text": [
      "------before -------\n",
      "     Name  Height Qualification  Score 1  Score 2\n",
      "0    Jane     5.1           Msc       56       50\n",
      "1  Princi     6.2            MA       86       96\n",
      "2   James     5.1           Msc       77       60\n",
      "3    Fadi     5.2           Msc       45       30\n",
      "------after adding column -------\n",
      "     Name  Height  Age Qualification  Score 1  Score 2\n",
      "0    Jane     5.1   21           Msc       56       50\n",
      "1  Princi     6.2   23            MA       86       96\n",
      "2   James     5.1   24           Msc       77       60\n",
      "3    Fadi     5.2   21           Msc       45       30\n"
     ]
    }
   ],
   "source": [
    "# Import pandas package \n",
    "import pandas as pd\n",
    "  \n",
    "# Define a dictionary containing Students data\n",
    "data = {'Name': ['Jane', 'Princi', 'James', 'Fadi'],\n",
    "        'Height': [5.1, 6.2, 5.1, 5.2],\n",
    "        'Qualification': ['Msc', 'MA', 'Msc', 'Msc'],\n",
    "       'Score 1' : [56,86,77,45],\n",
    "           'Score 2' : [50,96,60,30]}\n",
    "  \n",
    "# Convert the dictionary into DataFrame\n",
    "df = pd.DataFrame(data)\n",
    "print(\"------before -------\")\n",
    "print(df)\n",
    "# Using DataFrame.insert() adding age column\n",
    "df.insert(2, \"Age\", [21, 23, 24, 21], True)\n",
    "print(\"------after adding column -------\")\n",
    "# Observe the result\n",
    "print(df)\n"
   ]
  },
  {
   "cell_type": "code",
   "execution_count": 14,
   "metadata": {},
   "outputs": [
    {
     "name": "stdout",
     "output_type": "stream",
     "text": [
      "------before -------\n",
      "     Name  Height Qualification  Score 1  Score 2\n",
      "0    Jane     5.1           Msc       56       50\n",
      "1  Princi     6.2            MA       86       96\n",
      "2   James     5.1           Msc       77       60\n",
      "3    Fadi     5.2           Msc       45       30\n",
      "------after adding column -------\n",
      "     Name  Height Qualification  Score 1  Score 2 address\n",
      "0    Jane     5.1           Msc       56       50     NYC\n",
      "1  Princi     6.2            MA       86       96      NJ\n",
      "2   James     5.1           Msc       77       60      CA\n",
      "3    Fadi     5.2           Msc       45       30      PA\n"
     ]
    }
   ],
   "source": [
    "# Import pandas package\n",
    "import pandas as pd\n",
    "  \n",
    "# Define a dictionary containing Students data\n",
    "data = {'Name': ['Jane', 'Princi', 'James', 'Fadi'],\n",
    "        'Height': [5.1, 6.2, 5.1, 5.2],\n",
    "        'Qualification': ['Msc', 'MA', 'Msc', 'Msc'],\n",
    "       'Score 1' : [56,86,77,45],\n",
    "           'Score 2' : [50,96,60,30]}\n",
    "  \n",
    "print(\"------before -------\")  \n",
    "  \n",
    "# Convert the dictionary into DataFrame\n",
    "df = pd.DataFrame(data)\n",
    "print(df)\n",
    "print(\"------after adding column -------\")\n",
    "# using DataFrame.assign() method adding 'Address' as the column name and equating it to the list\n",
    "df = df.assign(address = ['NYC', 'NJ', 'CA', 'PA'])\n",
    "  \n",
    "# Observe the result\n",
    "print(df)\n"
   ]
  }
 ],
 "metadata": {
  "kernelspec": {
   "display_name": "Python 3",
   "language": "python",
   "name": "python3"
  },
  "language_info": {
   "codemirror_mode": {
    "name": "ipython",
    "version": 3
   },
   "file_extension": ".py",
   "mimetype": "text/x-python",
   "name": "python",
   "nbconvert_exporter": "python",
   "pygments_lexer": "ipython3",
   "version": "3.12.3"
  }
 },
 "nbformat": 4,
 "nbformat_minor": 2
}
