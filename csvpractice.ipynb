{
 "cells": [
  {
   "cell_type": "code",
   "execution_count": 7,
   "metadata": {},
   "outputs": [
    {
     "name": "stdout",
     "output_type": "stream",
     "text": [
      "May b-day count: 1\n",
      "September b-day count: 2\n",
      "July b-day count: 2\n",
      "October b-day count: 1\n",
      "December b-day count: 2\n",
      "January b-day count: 2\n",
      "February b-day count: 2\n",
      "March b-day count: 2\n",
      "June b-day count: 3\n",
      "April b-day count: 2\n",
      "November b-day count: 1\n"
     ]
    }
   ],
   "source": [
    "import csv\n",
    "with open('employee_birthday.txt') as csv_file:\n",
    "    csv_reader = csv.reader(csv_file, delimiter=',') \n",
    "    line_count = 0\n",
    "    birth_count_dict = {}\n",
    "    for row in csv_reader:\n",
    "        if line_count == 0: #check for a header row\n",
    "            # print(f'Column names are {\", \".join(row)}')\n",
    "            #\".join(row) part joins the elements in the row list (which contains the column names) with commas and spaces in between.\n",
    "            line_count += 1\n",
    "        else:\n",
    "            if row[2] not in birth_count_dict:\n",
    "                birth_count_dict[row[2]] = 1\n",
    "            else:\n",
    "                birth_count_dict[row[2]] += 1\n",
    "            # print(f'\\t{row[0]} works in the {row[1]} department, and was born in {row[2]}.')#Formats the data from the row into a sentence structure and prints it.\n",
    "            line_count += 1\n",
    "        # print(f'Processed {line_count} lines.')\n",
    "    \n",
    "    for month, count in birth_count_dict.items():\n",
    "        print(month, 'b-day count:', count)"
   ]
  },
  {
   "cell_type": "code",
   "execution_count": 8,
   "metadata": {},
   "outputs": [
    {
     "data": {
      "text/plain": [
       "{'firstName': 'Jane',\n",
       " 'lastName': 'Doe',\n",
       " 'hobbies': ['running', 'sky diving', 'singing'],\n",
       " 'age': 35,\n",
       " 'children': [{'firstName': 'Alice', 'age': 6},\n",
       "  {'firstName': 'Bob', 'age': 8}]}"
      ]
     },
     "execution_count": 8,
     "metadata": {},
     "output_type": "execute_result"
    }
   ],
   "source": [
    "{\n",
    "    \"firstName\": \"Jane\",\n",
    "    \"lastName\": \"Doe\",\n",
    "    \"hobbies\": [\"running\", \"sky diving\", \"singing\"],\n",
    "    \"age\": 35,\n",
    "    \"children\": [\n",
    "        {\n",
    "            \"firstName\": \"Alice\",\n",
    "            \"age\": 6\n",
    "        },\n",
    "        {\n",
    "            \"firstName\": \"Bob\",\n",
    "            \"age\": 8\n",
    "        }\n",
    "    ]\n",
    "}"
   ]
  },
  {
   "cell_type": "code",
   "execution_count": 8,
   "metadata": {},
   "outputs": [
    {
     "name": "stdout",
     "output_type": "stream",
     "text": [
      "<class 'dict'>\n",
      "<class 'dict'>\n",
      "{\"firstName\": \"Jane\", \"lastName\": \"Doe\", \"hobbies\": [\"running\", \"sky diving\", \"singing\"], \"age\": 35, \"children\": [{\"firstName\": \"Alice\", \"age\": 6}, {\"firstName\": \"Bob\", \"age\": 8}]}\n"
     ]
    }
   ],
   "source": [
    "import json\n",
    "blackjack_hand = {\n",
    "    \"firstName\": \"Jane\",\n",
    "    \"lastName\": \"Doe\",\n",
    "    \"hobbies\": [\"running\", \"sky diving\", \"singing\"],\n",
    "    \"age\": 35,\n",
    "    \"children\": [\n",
    "        {\n",
    "            \"firstName\": \"Alice\",\n",
    "            \"age\": 6\n",
    "        },\n",
    "        {\n",
    "            \"firstName\": \"Bob\",\n",
    "            \"age\": 8\n",
    "        }\n",
    "    ]\n",
    "}\n",
    "encoded_hand = json.dumps(blackjack_hand)\n",
    "decoded_hand = json.loads(encoded_hand)\n",
    "\n",
    "blackjack_hand == decoded_hand\n",
    "\n",
    "print(type(blackjack_hand))\n",
    "\n",
    "print(type(decoded_hand))\n",
    "\n",
    "print(encoded_hand)\n",
    "\n",
    "blackjack_hand == tuple(decoded_hand)\n",
    "\n",
    "data = {\n",
    "    \"president\": {\n",
    "        \"name\": \"Zaphod Beeblebrox\",\n",
    "        \"species\": \"Betelgeusian\"\n",
    "    }\n",
    "}\n",
    "\n",
    "with open(\"data_file.json\", \"w\") as write_file:\n",
    "    json.dump(data, write_file)"
   ]
  },
  {
   "cell_type": "code",
   "execution_count": 10,
   "metadata": {},
   "outputs": [],
   "source": [
    "import json\n",
    "import requests\n",
    "response = requests.get(\"https://jsonplaceholder.typicode.com/todos\")\n",
    "todos = json.loads(response.text)"
   ]
  }
 ],
 "metadata": {
  "kernelspec": {
   "display_name": "Python 3",
   "language": "python",
   "name": "python3"
  },
  "language_info": {
   "codemirror_mode": {
    "name": "ipython",
    "version": 3
   },
   "file_extension": ".py",
   "mimetype": "text/x-python",
   "name": "python",
   "nbconvert_exporter": "python",
   "pygments_lexer": "ipython3",
   "version": "3.12.3"
  }
 },
 "nbformat": 4,
 "nbformat_minor": 2
}
