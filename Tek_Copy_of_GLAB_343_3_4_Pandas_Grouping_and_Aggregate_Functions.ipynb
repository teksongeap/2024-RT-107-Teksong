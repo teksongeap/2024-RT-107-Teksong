{
  "nbformat": 4,
  "nbformat_minor": 0,
  "metadata": {
    "colab": {
      "provenance": []
    },
    "kernelspec": {
      "name": "python3",
      "display_name": "Python 3"
    },
    "language_info": {
      "name": "python"
    }
  },
  "cells": [
    {
      "cell_type": "markdown",
      "source": [
        "# **Guided LAB - 343.3.4 - Pandas Grouping and Aggregate Functions**\n",
        "\n",
        "---\n",
        "\n"
      ],
      "metadata": {
        "id": "lTKJOk7d9yzP"
      }
    },
    {
      "cell_type": "markdown",
      "source": [
        "## **Learning Objective:**\n",
        "\n",
        "In this lab, we will demonstrate how to group by a single column, multiple columns by using aggregations.\n",
        "\n",
        "By the end of this lab, learners will be able to:-\n",
        "- Utilize the groupBy() function.\n",
        "- Combine aggregate functions with groupby() function for data manipulation.\n",
        "\n",
        "\n",
        "**In this lab we will student_scores.csv dataset,[ Click here to download dataset.](https://drive.google.com/file/d/1GxvbD5kV6-zzrbDS3uXUlPtm14sSZkBc/view?usp=sharing)**"
      ],
      "metadata": {
        "id": "1fFJCYylwIk1"
      }
    },
    {
      "cell_type": "markdown",
      "source": [
        "## **Introduction:**\n",
        "\n",
        "Similar to the SQL GROUP BY clause pandas DataFrame.groupby() function is used to collect identical data into groups and perform aggregate functions on the grouped data. Group by operation involves splitting the data, applying some functions, and finally aggregating the results.\n",
        "\n",
        "In pandas, you can use groupby() with the combination of sum(), aggregate() and many more methods."
      ],
      "metadata": {
        "id": "REUh4aGI9Caz"
      }
    },
    {
      "cell_type": "markdown",
      "source": [
        "**Syntax of groupby() function**\n",
        "\n",
        "```\n",
        "pandas.groupby(by=column or index, axis=0, level=None, as_index=True, sort=True, group_keys=True,  observed=False, dropna=True)\n",
        "```\n",
        "\n",
        "- by – List of column names or index label to group by\n",
        "- axis – Default to 0. It takes 0 or ‘index’, 1 or ‘columns’\n",
        "- level – Used with MultiIndex.\n",
        "- as_index – sql style grouped output.\n",
        "- sort – Default to True. Specify whether to sort after group\n",
        "- group_keys – add group keys or not\n",
        "- observed – This only applies if any of the groupers are Categorical\n",
        "- dropna – Default false. True, and if group keys contain NA values, NA values together with row/column will be dropped. If False, NA values will also be treated as the key in groups.\n"
      ],
      "metadata": {
        "id": "rYzFGmdnwBH1"
      }
    },
    {
      "cell_type": "markdown",
      "source": [
        "#**Instruction:**\n",
        "In order to explain several examples of how to perform group by, first, let’s import student_score.csv file for dataset into Pandas"
      ],
      "metadata": {
        "id": "TKN0K3hn_ytZ"
      }
    },
    {
      "cell_type": "code",
      "execution_count": 1,
      "metadata": {
        "id": "AhFpuyUcvkR4",
        "colab": {
          "base_uri": "https://localhost:8080/",
          "height": 321
        },
        "outputId": "3c964800-e233-4336-c9ec-58fb9897d5bb"
      },
      "outputs": [
        {
          "output_type": "error",
          "ename": "FileNotFoundError",
          "evalue": "[Errno 2] No such file or directory: 'student_scores.csv'",
          "traceback": [
            "\u001b[0;31m---------------------------------------------------------------------------\u001b[0m",
            "\u001b[0;31mFileNotFoundError\u001b[0m                         Traceback (most recent call last)",
            "\u001b[0;32m<ipython-input-1-bf74e21dc7d0>\u001b[0m in \u001b[0;36m<cell line: 2>\u001b[0;34m()\u001b[0m\n\u001b[1;32m      1\u001b[0m \u001b[0;32mimport\u001b[0m \u001b[0mpandas\u001b[0m \u001b[0;32mas\u001b[0m \u001b[0mpd\u001b[0m\u001b[0;34m\u001b[0m\u001b[0;34m\u001b[0m\u001b[0m\n\u001b[0;32m----> 2\u001b[0;31m \u001b[0mdf\u001b[0m \u001b[0;34m=\u001b[0m \u001b[0mpd\u001b[0m\u001b[0;34m.\u001b[0m\u001b[0mread_csv\u001b[0m\u001b[0;34m(\u001b[0m\u001b[0;34m\"student_scores.csv\"\u001b[0m\u001b[0;34m,\u001b[0m \u001b[0mheader\u001b[0m\u001b[0;34m=\u001b[0m\u001b[0;36m0\u001b[0m\u001b[0;34m)\u001b[0m\u001b[0;34m\u001b[0m\u001b[0;34m\u001b[0m\u001b[0m\n\u001b[0m\u001b[1;32m      3\u001b[0m \u001b[0mdf\u001b[0m\u001b[0;34m\u001b[0m\u001b[0;34m\u001b[0m\u001b[0m\n",
            "\u001b[0;32m/usr/local/lib/python3.10/dist-packages/pandas/io/parsers/readers.py\u001b[0m in \u001b[0;36mread_csv\u001b[0;34m(filepath_or_buffer, sep, delimiter, header, names, index_col, usecols, dtype, engine, converters, true_values, false_values, skipinitialspace, skiprows, skipfooter, nrows, na_values, keep_default_na, na_filter, verbose, skip_blank_lines, parse_dates, infer_datetime_format, keep_date_col, date_parser, date_format, dayfirst, cache_dates, iterator, chunksize, compression, thousands, decimal, lineterminator, quotechar, quoting, doublequote, escapechar, comment, encoding, encoding_errors, dialect, on_bad_lines, delim_whitespace, low_memory, memory_map, float_precision, storage_options, dtype_backend)\u001b[0m\n\u001b[1;32m    910\u001b[0m     \u001b[0mkwds\u001b[0m\u001b[0;34m.\u001b[0m\u001b[0mupdate\u001b[0m\u001b[0;34m(\u001b[0m\u001b[0mkwds_defaults\u001b[0m\u001b[0;34m)\u001b[0m\u001b[0;34m\u001b[0m\u001b[0;34m\u001b[0m\u001b[0m\n\u001b[1;32m    911\u001b[0m \u001b[0;34m\u001b[0m\u001b[0m\n\u001b[0;32m--> 912\u001b[0;31m     \u001b[0;32mreturn\u001b[0m \u001b[0m_read\u001b[0m\u001b[0;34m(\u001b[0m\u001b[0mfilepath_or_buffer\u001b[0m\u001b[0;34m,\u001b[0m \u001b[0mkwds\u001b[0m\u001b[0;34m)\u001b[0m\u001b[0;34m\u001b[0m\u001b[0;34m\u001b[0m\u001b[0m\n\u001b[0m\u001b[1;32m    913\u001b[0m \u001b[0;34m\u001b[0m\u001b[0m\n\u001b[1;32m    914\u001b[0m \u001b[0;34m\u001b[0m\u001b[0m\n",
            "\u001b[0;32m/usr/local/lib/python3.10/dist-packages/pandas/io/parsers/readers.py\u001b[0m in \u001b[0;36m_read\u001b[0;34m(filepath_or_buffer, kwds)\u001b[0m\n\u001b[1;32m    575\u001b[0m \u001b[0;34m\u001b[0m\u001b[0m\n\u001b[1;32m    576\u001b[0m     \u001b[0;31m# Create the parser.\u001b[0m\u001b[0;34m\u001b[0m\u001b[0;34m\u001b[0m\u001b[0m\n\u001b[0;32m--> 577\u001b[0;31m     \u001b[0mparser\u001b[0m \u001b[0;34m=\u001b[0m \u001b[0mTextFileReader\u001b[0m\u001b[0;34m(\u001b[0m\u001b[0mfilepath_or_buffer\u001b[0m\u001b[0;34m,\u001b[0m \u001b[0;34m**\u001b[0m\u001b[0mkwds\u001b[0m\u001b[0;34m)\u001b[0m\u001b[0;34m\u001b[0m\u001b[0;34m\u001b[0m\u001b[0m\n\u001b[0m\u001b[1;32m    578\u001b[0m \u001b[0;34m\u001b[0m\u001b[0m\n\u001b[1;32m    579\u001b[0m     \u001b[0;32mif\u001b[0m \u001b[0mchunksize\u001b[0m \u001b[0;32mor\u001b[0m \u001b[0miterator\u001b[0m\u001b[0;34m:\u001b[0m\u001b[0;34m\u001b[0m\u001b[0;34m\u001b[0m\u001b[0m\n",
            "\u001b[0;32m/usr/local/lib/python3.10/dist-packages/pandas/io/parsers/readers.py\u001b[0m in \u001b[0;36m__init__\u001b[0;34m(self, f, engine, **kwds)\u001b[0m\n\u001b[1;32m   1405\u001b[0m \u001b[0;34m\u001b[0m\u001b[0m\n\u001b[1;32m   1406\u001b[0m         \u001b[0mself\u001b[0m\u001b[0;34m.\u001b[0m\u001b[0mhandles\u001b[0m\u001b[0;34m:\u001b[0m \u001b[0mIOHandles\u001b[0m \u001b[0;34m|\u001b[0m \u001b[0;32mNone\u001b[0m \u001b[0;34m=\u001b[0m \u001b[0;32mNone\u001b[0m\u001b[0;34m\u001b[0m\u001b[0;34m\u001b[0m\u001b[0m\n\u001b[0;32m-> 1407\u001b[0;31m         \u001b[0mself\u001b[0m\u001b[0;34m.\u001b[0m\u001b[0m_engine\u001b[0m \u001b[0;34m=\u001b[0m \u001b[0mself\u001b[0m\u001b[0;34m.\u001b[0m\u001b[0m_make_engine\u001b[0m\u001b[0;34m(\u001b[0m\u001b[0mf\u001b[0m\u001b[0;34m,\u001b[0m \u001b[0mself\u001b[0m\u001b[0;34m.\u001b[0m\u001b[0mengine\u001b[0m\u001b[0;34m)\u001b[0m\u001b[0;34m\u001b[0m\u001b[0;34m\u001b[0m\u001b[0m\n\u001b[0m\u001b[1;32m   1408\u001b[0m \u001b[0;34m\u001b[0m\u001b[0m\n\u001b[1;32m   1409\u001b[0m     \u001b[0;32mdef\u001b[0m \u001b[0mclose\u001b[0m\u001b[0;34m(\u001b[0m\u001b[0mself\u001b[0m\u001b[0;34m)\u001b[0m \u001b[0;34m->\u001b[0m \u001b[0;32mNone\u001b[0m\u001b[0;34m:\u001b[0m\u001b[0;34m\u001b[0m\u001b[0;34m\u001b[0m\u001b[0m\n",
            "\u001b[0;32m/usr/local/lib/python3.10/dist-packages/pandas/io/parsers/readers.py\u001b[0m in \u001b[0;36m_make_engine\u001b[0;34m(self, f, engine)\u001b[0m\n\u001b[1;32m   1659\u001b[0m                 \u001b[0;32mif\u001b[0m \u001b[0;34m\"b\"\u001b[0m \u001b[0;32mnot\u001b[0m \u001b[0;32min\u001b[0m \u001b[0mmode\u001b[0m\u001b[0;34m:\u001b[0m\u001b[0;34m\u001b[0m\u001b[0;34m\u001b[0m\u001b[0m\n\u001b[1;32m   1660\u001b[0m                     \u001b[0mmode\u001b[0m \u001b[0;34m+=\u001b[0m \u001b[0;34m\"b\"\u001b[0m\u001b[0;34m\u001b[0m\u001b[0;34m\u001b[0m\u001b[0m\n\u001b[0;32m-> 1661\u001b[0;31m             self.handles = get_handle(\n\u001b[0m\u001b[1;32m   1662\u001b[0m                 \u001b[0mf\u001b[0m\u001b[0;34m,\u001b[0m\u001b[0;34m\u001b[0m\u001b[0;34m\u001b[0m\u001b[0m\n\u001b[1;32m   1663\u001b[0m                 \u001b[0mmode\u001b[0m\u001b[0;34m,\u001b[0m\u001b[0;34m\u001b[0m\u001b[0;34m\u001b[0m\u001b[0m\n",
            "\u001b[0;32m/usr/local/lib/python3.10/dist-packages/pandas/io/common.py\u001b[0m in \u001b[0;36mget_handle\u001b[0;34m(path_or_buf, mode, encoding, compression, memory_map, is_text, errors, storage_options)\u001b[0m\n\u001b[1;32m    857\u001b[0m         \u001b[0;32mif\u001b[0m \u001b[0mioargs\u001b[0m\u001b[0;34m.\u001b[0m\u001b[0mencoding\u001b[0m \u001b[0;32mand\u001b[0m \u001b[0;34m\"b\"\u001b[0m \u001b[0;32mnot\u001b[0m \u001b[0;32min\u001b[0m \u001b[0mioargs\u001b[0m\u001b[0;34m.\u001b[0m\u001b[0mmode\u001b[0m\u001b[0;34m:\u001b[0m\u001b[0;34m\u001b[0m\u001b[0;34m\u001b[0m\u001b[0m\n\u001b[1;32m    858\u001b[0m             \u001b[0;31m# Encoding\u001b[0m\u001b[0;34m\u001b[0m\u001b[0;34m\u001b[0m\u001b[0m\n\u001b[0;32m--> 859\u001b[0;31m             handle = open(\n\u001b[0m\u001b[1;32m    860\u001b[0m                 \u001b[0mhandle\u001b[0m\u001b[0;34m,\u001b[0m\u001b[0;34m\u001b[0m\u001b[0;34m\u001b[0m\u001b[0m\n\u001b[1;32m    861\u001b[0m                 \u001b[0mioargs\u001b[0m\u001b[0;34m.\u001b[0m\u001b[0mmode\u001b[0m\u001b[0;34m,\u001b[0m\u001b[0;34m\u001b[0m\u001b[0;34m\u001b[0m\u001b[0m\n",
            "\u001b[0;31mFileNotFoundError\u001b[0m: [Errno 2] No such file or directory: 'student_scores.csv'"
          ]
        }
      ],
      "source": [
        "import pandas as pd\n",
        "df = pd.read_csv(\"student_scores.csv\", header=0)\n",
        "df"
      ]
    },
    {
      "cell_type": "code",
      "source": [
        "df.shape"
      ],
      "metadata": {
        "id": "rG6qye5u5ls_"
      },
      "execution_count": null,
      "outputs": []
    },
    {
      "cell_type": "code",
      "source": [
        "df.describe()"
      ],
      "metadata": {
        "id": "u0Fr54vq5qdW"
      },
      "execution_count": null,
      "outputs": []
    },
    {
      "cell_type": "code",
      "source": [
        "df.info"
      ],
      "metadata": {
        "id": "rclWz_sW50H2"
      },
      "execution_count": null,
      "outputs": []
    },
    {
      "cell_type": "markdown",
      "source": [
        "# **Split Data into Groups**\n",
        "\n",
        "- The **by** parameter can accept one column or multiple columns.\n",
        "- Pandas object can be split into a group in many ways. A **groups** attribute is used to list group data.\n",
        "\n",
        "\n"
      ],
      "metadata": {
        "id": "xbF2QRN2xLvG"
      }
    },
    {
      "cell_type": "markdown",
      "source": [
        "### **Example: Groupby using single column – It makes the group by using a single column.**"
      ],
      "metadata": {
        "id": "_LP-sEVY0bOY"
      }
    },
    {
      "cell_type": "code",
      "source": [
        "item_group = df.groupby('first_name')\n",
        "item_group.groups"
      ],
      "metadata": {
        "id": "5zlaXBfHv28n"
      },
      "execution_count": null,
      "outputs": []
    },
    {
      "cell_type": "markdown",
      "source": [
        "### **Example: Groupby using multiple columns – It forms the group by using multiple columns.**"
      ],
      "metadata": {
        "id": "Doojea4hz7Xl"
      }
    },
    {
      "cell_type": "code",
      "source": [
        "Groupby_MultipleColumns = df.groupby([\"first_name\", \"last_name\"])\n",
        "Groupby_MultipleColumns.groups"
      ],
      "metadata": {
        "id": "l00J6MNAxgZX"
      },
      "execution_count": null,
      "outputs": []
    },
    {
      "cell_type": "markdown",
      "source": [
        "### **Example: Iterating through Groups**\n",
        "You can also print the group elements by iterating through groups using for loop."
      ],
      "metadata": {
        "id": "---uT1qS1JFN"
      }
    },
    {
      "cell_type": "code",
      "source": [
        "for name,group in item_group:\n",
        "    print('{}:'.format(name))\n",
        "    print(group)"
      ],
      "metadata": {
        "id": "y3NYXI0k1DY_"
      },
      "execution_count": null,
      "outputs": []
    },
    {
      "cell_type": "markdown",
      "source": [
        "### **Example: Selecting a Group**\n",
        "The **get_group()** method is used to select a particular group."
      ],
      "metadata": {
        "id": "m9n_9Z6R1ZNl"
      }
    },
    {
      "cell_type": "code",
      "source": [
        "item_group = df.groupby('Subject')\n",
        "#item_group.groups\n",
        "item_group.get_group('Calculus')"
      ],
      "metadata": {
        "id": "W5Zll3-m1h1-"
      },
      "execution_count": null,
      "outputs": []
    },
    {
      "cell_type": "markdown",
      "source": [
        "### **Example: Groupby – Aggregations**"
      ],
      "metadata": {
        "id": "QUKWAfN12Z5W"
      }
    },
    {
      "cell_type": "markdown",
      "source": [
        "You can use aggregation function such as mean, sum, etc to get the aggregate value of each group. Aggregation functions are used once the group by object is created.\n",
        "\n",
        "Let’s calculate the average score of each Subject."
      ],
      "metadata": {
        "id": "miZbq_R32eZm"
      }
    },
    {
      "cell_type": "code",
      "source": [
        "# Directly using mean() function\n",
        "agg_group_subject = df.groupby('Subject')['score'].mean()\n",
        "agg_group_subject"
      ],
      "metadata": {
        "id": "98_R7HO82Wm-"
      },
      "execution_count": null,
      "outputs": []
    },
    {
      "cell_type": "markdown",
      "source": [
        "## **Alternativily**: the below line will give the same output.\n"
      ],
      "metadata": {
        "id": "ru0PEjafhrB8"
      }
    },
    {
      "cell_type": "code",
      "source": [
        "agg_group_subject = df.groupby('Subject')['score'].aggregate('mean')\n",
        "agg_group_subject"
      ],
      "metadata": {
        "id": "fZxMLlqVhY2i"
      },
      "execution_count": null,
      "outputs": []
    },
    {
      "cell_type": "markdown",
      "source": [
        "Let’s calculate the average score of each Student."
      ],
      "metadata": {
        "id": "iyv1sgT23mxG"
      }
    },
    {
      "cell_type": "code",
      "source": [
        "import numpy as np\n",
        "agg_group_stu = df.groupby([\"first_name\", \"last_name\"])['score'].mean()\n",
        "print(agg_group_stu)"
      ],
      "metadata": {
        "id": "hMYG1vWp3dQ2"
      },
      "execution_count": null,
      "outputs": []
    },
    {
      "cell_type": "markdown",
      "source": [
        "## **Alternativily: the below line will give the same output.**"
      ],
      "metadata": {
        "id": "s3pBdbCziRwq"
      }
    },
    {
      "cell_type": "code",
      "source": [
        "agg_group_stu = df.groupby([\"first_name\", \"last_name\"])['score'].aggregate('mean')\n",
        "print(agg_group_stu)"
      ],
      "metadata": {
        "id": "09W1-ycSh9bc"
      },
      "execution_count": null,
      "outputs": []
    },
    {
      "cell_type": "markdown",
      "source": [
        "### **Example: Aggregation group for Multiple columns:**\n",
        "You can make groups for aggregation value by using multiple columns\n",
        "\n",
        "Let’s calculate the average and total score of each student."
      ],
      "metadata": {
        "id": "sVNXWkqV2uwe"
      }
    },
    {
      "cell_type": "code",
      "source": [
        "import numpy as np\n",
        "agg_group = df.groupby([\"first_name\", \"last_name\"])['score'].aggregate([np.mean,np.sum])\n",
        "print(agg_group)"
      ],
      "metadata": {
        "id": "XNPyaZxn2t9B"
      },
      "execution_count": null,
      "outputs": []
    },
    {
      "cell_type": "markdown",
      "source": [
        "### **Example: Lets count the number of students**"
      ],
      "metadata": {
        "id": "h1BZ28aF4Mav"
      }
    },
    {
      "cell_type": "code",
      "source": [
        "agg_group_count = df.groupby([\"first_name\", \"last_name\"])[\"id\"].count()\n",
        "\n",
        "agg_group_count"
      ],
      "metadata": {
        "id": "ITsH-G0K374e"
      },
      "execution_count": null,
      "outputs": []
    },
    {
      "cell_type": "markdown",
      "source": [
        "### **Exmaple: Find the highest score of the each Student**"
      ],
      "metadata": {
        "id": "JTsySJNq8caW"
      }
    },
    {
      "cell_type": "code",
      "source": [
        "df.groupby([\"first_name\", \"last_name\"]).max()"
      ],
      "metadata": {
        "id": "bjXZ9Os67_yn"
      },
      "execution_count": null,
      "outputs": []
    },
    {
      "cell_type": "markdown",
      "source": [
        "### **Example: Find the lowest score of the each Student**"
      ],
      "metadata": {
        "id": "DtEZml3K8mHe"
      }
    },
    {
      "cell_type": "code",
      "source": [
        "df.groupby([\"first_name\", \"last_name\"]).min()"
      ],
      "metadata": {
        "id": "u9r6wfnN8Vg1"
      },
      "execution_count": null,
      "outputs": []
    },
    {
      "cell_type": "markdown",
      "source": [
        "# **Submission Instructions:**\n",
        "Include the following deliverables in your submission -\n",
        "\n",
        "- Submit your completed Python program file(s) with appropriate comments and - any additional instructions if required,\n",
        "- Using the Start Assignment button in the top-right corner of the assignment page in Canvas.\n"
      ],
      "metadata": {
        "id": "ZHkOa-odaliM"
      }
    }
  ]
}