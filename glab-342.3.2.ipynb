{
 "cells": [
  {
   "cell_type": "code",
   "execution_count": 1,
   "metadata": {},
   "outputs": [
    {
     "name": "stdout",
     "output_type": "stream",
     "text": [
      "Failed tocreate table 1050 (42S01): Table 'laptop' already exists\n",
      "MySQL connection is closed\n"
     ]
    }
   ],
   "source": [
    "import mysql.connector as mydbconnection\n",
    "from mysql.connector import Error\n",
    "try:\n",
    "\tconn = mydbconnection.connect(database='usersdb', user='root',password='password', port ='3306')\n",
    "\tcursor=conn.cursor()\n",
    "\tmyquery2 = \"CREATE TABLE `laptop` (`Id` int(11) NOT NULL,\\\n",
    "  `Name` varchar(250) NOT NULL,\\\n",
    "  `Price` float NOT NULL,\\\n",
    "  `Purchase_date` date NOT NULL)\"\n",
    "\tcursor.execute(myquery2)\n",
    "\tprint(\"Table is created\")\n",
    "except Error as e:\n",
    "    print(\"Failed tocreate table {}\".format(e))\n",
    "finally:\n",
    "   if conn.is_connected():\n",
    "    conn.close()\n",
    "    print(\"MySQL connection is closed\")\n"
   ]
  },
  {
   "cell_type": "code",
   "execution_count": 2,
   "metadata": {},
   "outputs": [
    {
     "name": "stdout",
     "output_type": "stream",
     "text": [
      "1 Record inserted successfully into Laptop table\n",
      "MySQL connection is closed\n"
     ]
    }
   ],
   "source": [
    "import mysql.connector as mydbconnection\n",
    "from mysql.connector import Error\n",
    "\n",
    "try:\n",
    "    conn = mydbconnection.connect(database='usersdb', user='root',password='password', port='3306')\n",
    "\n",
    "    mySql_insert_query = \"\"\"INSERT INTO Laptop (Id, Name, Price, Purchase_date) \n",
    "                           VALUES \n",
    "                           (15, 'Lenovo ThinkPad P71', 6459, '2019-08-14') \"\"\"\n",
    "\n",
    "    cursor = conn.cursor()\n",
    "    cursor.execute(mySql_insert_query)\n",
    "    # commit necessary for changes to actually happen\n",
    "    conn.commit()\n",
    "    # shows numbers of rows inserted/acted upon\n",
    "    print(cursor.rowcount, \"Record inserted successfully into Laptop table\")\n",
    "    cursor.close()\n",
    "\n",
    "except Error as e:\n",
    "    print(\"Failed to insert record into Laptop table {}\".format(e))\n",
    "\n",
    "finally:\n",
    "   if conn.is_connected():\n",
    "    conn.close()\n",
    "    print(\"MySQL connection is closed\")\n"
   ]
  },
  {
   "cell_type": "code",
   "execution_count": 3,
   "metadata": {},
   "outputs": [
    {
     "name": "stdout",
     "output_type": "stream",
     "text": [
      "Record inserted successfully into Laptop table\n",
      "MySQL connection is closed\n",
      "Record inserted successfully into Laptop table\n",
      "MySQL connection is closed\n"
     ]
    }
   ],
   "source": [
    "import mysql.connector as mydbconnection\n",
    "from mysql.connector import Error\n",
    "def insert_variables_into_table(id, name, price, purchase_date):\n",
    "    try:\n",
    "        conn = mydbconnection.connect(database='usersdb', user='root',password='password', port ='3306')\n",
    "        cursor = conn.cursor()\n",
    "        mySql_insert_query = \"\"\"INSERT INTO Laptop (Id, Name, Price, Purchase_date)VALUES (%s, %s, %s, %s) \"\"\"                  \n",
    "\n",
    "        # tuple of record\n",
    "        record = (id, name, price, purchase_date)\n",
    "        # inserts (unpacks?) record into query\n",
    "        cursor.execute(mySql_insert_query, record)\n",
    "        conn.commit()\n",
    "        print(\"Record inserted successfully into Laptop table\")\n",
    "\n",
    "    except Error as error:\n",
    "        print(\"Failed to insert into MySQL table {}\".format(error))\n",
    "\n",
    "    finally:\n",
    "        if conn.is_connected():\n",
    "            cursor.close()\n",
    "            conn.close()\n",
    "            print(\"MySQL connection is closed\")\n",
    "\n",
    "\n",
    "insert_variables_into_table(2, 'Area 51M', 6999, '2019-04-14')\n",
    "insert_variables_into_table(3, 'MacBook Pro', 2499, '2019-06-20')\n"
   ]
  },
  {
   "cell_type": "code",
   "execution_count": 4,
   "metadata": {},
   "outputs": [
    {
     "name": "stdout",
     "output_type": "stream",
     "text": [
      "3 Record inserted successfully into Laptop table\n",
      "MySQL connection is closed\n"
     ]
    }
   ],
   "source": [
    "import mysql.connector as mydbconnection\n",
    "from mysql.connector import Error\n",
    "\n",
    "try:\n",
    "    conn = mydbconnection.connect(database='usersdb', user='root',password='password', port ='3306')\n",
    "\n",
    "    mySql_insert_query = \"\"\"INSERT INTO Laptop (Id, Name, Price, Purchase_date) \n",
    "                           VALUES (%s, %s, %s, %s) \"\"\"\n",
    "\n",
    "    records_to_insert = [(4, 'HP Pavilion Power', 1999, '2019-01-11'),\n",
    "                         (5, 'MSI WS75 9TL-496', 5799, '2019-02-27'),\n",
    "                         (6, 'Microsoft Surface', 2330, '2019-07-23')]\n",
    "    cursor = conn.cursor()\n",
    "    # allows for a more pythonic way of inserting rows\n",
    "    # pythonic means lazy but in a good way\n",
    "    cursor.executemany(mySql_insert_query, records_to_insert)\n",
    "    conn.commit()\n",
    "    print(cursor.rowcount, \"Record inserted successfully into Laptop table\")\n",
    "\n",
    "except Error as error:\n",
    "    print(\"Failed to insert record into MySQL table {}\".format(error))\n",
    "\n",
    "finally:\n",
    "    if conn.is_connected():\n",
    "        cursor.close()\n",
    "        conn.close()\n",
    "        print(\"MySQL connection is closed\")\n"
   ]
  }
 ],
 "metadata": {
  "kernelspec": {
   "display_name": "Python 3",
   "language": "python",
   "name": "python3"
  },
  "language_info": {
   "codemirror_mode": {
    "name": "ipython",
    "version": 3
   },
   "file_extension": ".py",
   "mimetype": "text/x-python",
   "name": "python",
   "nbconvert_exporter": "python",
   "pygments_lexer": "ipython3",
   "version": "3.12.3"
  }
 },
 "nbformat": 4,
 "nbformat_minor": 2
}
