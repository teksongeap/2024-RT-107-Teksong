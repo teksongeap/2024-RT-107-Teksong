{
 "cells": [
  {
   "cell_type": "code",
   "execution_count": 2,
   "metadata": {},
   "outputs": [
    {
     "data": {
      "image/png": "[encoded data removed]",
      "text/plain": [
       "<Figure size 640x480 with 1 Axes>"
      ]
     },
     "metadata": {},
     "output_type": "display_data"
    }
   ],
   "source": [
    "import numpy as np\n",
    "import matplotlib.pyplot as plt\n",
    "\n",
    "def rule30(state):\n",
    "    new_state = np.zeros_like(state)\n",
    "    for i in range(1, len(state) - 1):\n",
    "        left, center, right = state[i-1:i+2]\n",
    "        if (left, center, right) in [(1,1,1), (1,1,0), (1,0,1), (0,1,1), (0,0,0)]:\n",
    "            new_state[i] = 0\n",
    "        else:\n",
    "            new_state[i] = 1\n",
    "    return new_state\n",
    "\n",
    "def cellular_automaton(rule, initial_state, num_generations):\n",
    "    state = initial_state\n",
    "    for _ in range(num_generations):\n",
    "        yield state\n",
    "        state = rule(state)\n",
    "\n",
    "# Set the initial state and number of generations\n",
    "initial_state = np.zeros(100, dtype=int)\n",
    "initial_state[50] = 1\n",
    "num_generations = 100\n",
    "\n",
    "# Create a figure and axis for plotting\n",
    "fig, ax = plt.subplots()\n",
    "ax.set_axis_off()\n",
    "\n",
    "# Create an empty list to store the states\n",
    "states = []\n",
    "\n",
    "# Run the cellular automaton and store the states\n",
    "for state in cellular_automaton(rule30, initial_state, num_generations):\n",
    "    states.append(state)\n",
    "\n",
    "# Update the plot in real-time\n",
    "for i in range(num_generations):\n",
    "    ax.clear()\n",
    "    ax.imshow(np.array(states[:i+1]), cmap='binary', aspect='auto', vmin=0, vmax=1)\n",
    "    plt.pause(0.1)  # Adjust the pause duration to control the speed of the animation\n",
    "\n",
    "plt.show()"
   ]
  },
  {
   "cell_type": "code",
   "execution_count": 2,
   "metadata": {},
   "outputs": [
    {
     "name": "stdout",
     "output_type": "stream",
     "text": [
      "Initial Deposit: 1000\n",
      "Reserve Ratio: 0.1\n",
      "Iterations: 5\n",
      "\n",
      "Iteration 1:\n",
      "Reserves: 100.0 ██████████\n",
      "Loans:    900.0 ██████████████████████████████████████████████████████████████████████████████████████████\n",
      "\n",
      "Iteration 2:\n",
      "Reserves: 10.0 █\n",
      "Loans:    990.0 ███████████████████████████████████████████████████████████████████████████████████████████████████\n",
      "\n",
      "Iteration 3:\n",
      "Reserves: 1.0 \n",
      "Loans:    999.0 ███████████████████████████████████████████████████████████████████████████████████████████████████\n",
      "\n",
      "Iteration 4:\n",
      "Reserves: 0.09999999999999998 \n",
      "Loans:    999.9 ███████████████████████████████████████████████████████████████████████████████████████████████████\n",
      "\n",
      "Iteration 5:\n",
      "Reserves: 0.009999999999999995 \n",
      "Loans:    999.99 ███████████████████████████████████████████████████████████████████████████████████████████████████\n",
      "\n",
      "Total Money Supply: 1999.99\n"
     ]
    }
   ],
   "source": [
    "def visualize_reserves(reserves):\n",
    "    scale = 0.1\n",
    "    bar_length = int(reserves * scale)\n",
    "    bar = '█' * bar_length\n",
    "    print(f\"Reserves: {reserves} {bar}\")\n",
    "\n",
    "def visualize_loans(loans):\n",
    "    scale = 0.1\n",
    "    bar_length = int(loans * scale)\n",
    "    bar = '█' * bar_length\n",
    "    print(f\"Loans:    {loans} {bar}\")\n",
    "\n",
    "def simulate_fractional_reserve_banking(initial_deposit, reserve_ratio, iterations):\n",
    "    reserves = initial_deposit\n",
    "    loans = 0\n",
    "    money_supply = initial_deposit\n",
    "\n",
    "    print(f\"Initial Deposit: {initial_deposit}\")\n",
    "    print(f\"Reserve Ratio: {reserve_ratio}\")\n",
    "    print(f\"Iterations: {iterations}\")\n",
    "    print()\n",
    "\n",
    "    for i in range(iterations):\n",
    "        max_loanable = reserves - (reserves * reserve_ratio)\n",
    "        new_loans = max_loanable\n",
    "        reserves -= new_loans\n",
    "        loans += new_loans\n",
    "        money_supply += new_loans\n",
    "\n",
    "        print(f\"Iteration {i+1}:\")\n",
    "        visualize_reserves(reserves)\n",
    "        visualize_loans(loans)\n",
    "        print()\n",
    "\n",
    "    print(f\"Total Money Supply: {money_supply}\")\n",
    "\n",
    "# Example usage\n",
    "initial_deposit = 1000\n",
    "reserve_ratio = 0.1\n",
    "iterations = 5\n",
    "\n",
    "simulate_fractional_reserve_banking(initial_deposit, reserve_ratio, iterations)"
   ]
  }
 ],
 "metadata": {
  "kernelspec": {
   "display_name": "Python 3",
   "language": "python",
   "name": "python3"
  },
  "language_info": {
   "codemirror_mode": {
    "name": "ipython",
    "version": 3
   },
   "file_extension": ".py",
   "mimetype": "text/x-python",
   "name": "python",
   "nbconvert_exporter": "python",
   "pygments_lexer": "ipython3",
   "version": "3.12.3"
  }
 },
 "nbformat": 4,
 "nbformat_minor": 2
}
